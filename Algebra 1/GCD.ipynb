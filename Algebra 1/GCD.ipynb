{
  "nbformat": 4,
  "nbformat_minor": 0,
  "metadata": {
    "colab": {
      "provenance": [],
      "authorship_tag": "ABX9TyNIkeMFc19m9x0MxoWraPdW",
      "include_colab_link": true
    },
    "kernelspec": {
      "name": "python3",
      "display_name": "Python 3"
    },
    "language_info": {
      "name": "python"
    }
  },
  "cells": [
    {
      "cell_type": "markdown",
      "metadata": {
        "id": "view-in-github",
        "colab_type": "text"
      },
      "source": [
        "<a href=\"https://colab.research.google.com/github/karsakami/Master-Math-by-Coding-in-Python/blob/main/Algebra%201/GCD.ipynb\" target=\"_parent\"><img src=\"https://colab.research.google.com/assets/colab-badge.svg\" alt=\"Open In Colab\"/></a>"
      ]
    },
    {
      "cell_type": "markdown",
      "source": [
        "##Symplify the equations"
      ],
      "metadata": {
        "id": "S9FAjps_yl13"
      }
    },
    {
      "cell_type": "code",
      "execution_count": 43,
      "metadata": {
        "colab": {
          "base_uri": "https://localhost:8080/",
          "height": 116
        },
        "id": "OzN5Vm2Kh90M",
        "outputId": "e6e410c5-f126-4f29-d3ab-899a4807aae6"
      },
      "outputs": [
        {
          "output_type": "display_data",
          "data": {
            "text/plain": [
              "<IPython.core.display.Math object>"
            ],
            "text/latex": "$\\displaystyle x \\left(4 - 6 x\\right) + 3 x \\quad \\Longleftrightarrow \\quad - 6 x^{2} + 7 x$"
          },
          "metadata": {}
        },
        {
          "output_type": "display_data",
          "data": {
            "text/plain": [
              "<IPython.core.display.Math object>"
            ],
            "text/latex": "$\\displaystyle - x \\left(\\frac{2}{x} + \\frac{4}{x^{2}}\\right) + \\frac{x + 4}{4 x} \\quad \\Longleftrightarrow \\quad - \\frac{7}{4} - \\frac{3}{x}$"
          },
          "metadata": {}
        },
        {
          "output_type": "display_data",
          "data": {
            "text/plain": [
              "<IPython.core.display.Math object>"
            ],
            "text/latex": "$\\displaystyle \\frac{\\left(x - 3\\right) \\left(x + 3\\right)}{9} \\quad \\Longleftrightarrow \\quad \\frac{x^{2}}{9} - 1$"
          },
          "metadata": {}
        }
      ],
      "source": [
        "import sympy as sym\n",
        "from IPython.display import Math,display\n",
        "\n",
        "x = sym.symbols(\"x\")\n",
        "\n",
        "e_1 = 2*x + x*(4-6*x) + x\n",
        "e_2 = -x*(2/x + 4/x**2) + (4+x)/(4*x)\n",
        "e_3 = (x+3)*(x-3)*x*(1/(9*x))\n",
        "\n",
        "expressions = [e_1, e_2, e_3]\n",
        "\n",
        "for i in expressions:\n",
        "  display(Math(\"%s \\\\quad \\\\Longleftrightarrow \\\\quad %s\" %(sym.latex(i),sym.latex(sym.expand(i)))))"
      ]
    },
    {
      "cell_type": "markdown",
      "source": [
        "# **Greatest common denominator**\n",
        "\n",
        "Is the largest integer that divides into two numbers with no remainder.\n",
        "\n",
        "$gcd(2,4) = 2$ \\\n",
        "$gcd(6,15) = 3$ \\\n",
        "$gcd(1,17) = 1$"
      ],
      "metadata": {
        "id": "P8xkfPzCxbRf"
      }
    },
    {
      "cell_type": "code",
      "source": [
        "import math\n",
        "\n",
        "math.gcd(95,100)"
      ],
      "metadata": {
        "id": "MGRQKNMApb35",
        "colab": {
          "base_uri": "https://localhost:8080/"
        },
        "outputId": "3b8f203e-4746-4e32-87d0-d68b8503440a"
      },
      "execution_count": 44,
      "outputs": [
        {
          "output_type": "execute_result",
          "data": {
            "text/plain": [
              "5"
            ]
          },
          "metadata": {},
          "execution_count": 44
        }
      ]
    },
    {
      "cell_type": "markdown",
      "source": [
        "Working only for ints!"
      ],
      "metadata": {
        "id": "8LSyHzYlzl03"
      }
    },
    {
      "cell_type": "code",
      "source": [
        "import math\n",
        "\n",
        "math.gcd(95,12.5)"
      ],
      "metadata": {
        "colab": {
          "base_uri": "https://localhost:8080/",
          "height": 200
        },
        "id": "oukKgfwFzi8z",
        "outputId": "892016c5-051a-4e5e-a87e-9d365d6f58e8"
      },
      "execution_count": 45,
      "outputs": [
        {
          "output_type": "error",
          "ename": "TypeError",
          "evalue": "ignored",
          "traceback": [
            "\u001b[0;31m---------------------------------------------------------------------------\u001b[0m",
            "\u001b[0;31mTypeError\u001b[0m                                 Traceback (most recent call last)",
            "\u001b[0;32m<ipython-input-45-f21cb63c228d>\u001b[0m in \u001b[0;36m<module>\u001b[0;34m\u001b[0m\n\u001b[1;32m      1\u001b[0m \u001b[0;32mimport\u001b[0m \u001b[0mmath\u001b[0m\u001b[0;34m\u001b[0m\u001b[0;34m\u001b[0m\u001b[0m\n\u001b[1;32m      2\u001b[0m \u001b[0;34m\u001b[0m\u001b[0m\n\u001b[0;32m----> 3\u001b[0;31m \u001b[0mmath\u001b[0m\u001b[0;34m.\u001b[0m\u001b[0mgcd\u001b[0m\u001b[0;34m(\u001b[0m\u001b[0;36m95\u001b[0m\u001b[0;34m,\u001b[0m\u001b[0;36m12.5\u001b[0m\u001b[0;34m)\u001b[0m\u001b[0;34m\u001b[0m\u001b[0;34m\u001b[0m\u001b[0m\n\u001b[0m",
            "\u001b[0;31mTypeError\u001b[0m: 'float' object cannot be interpreted as an integer"
          ]
        }
      ]
    },
    {
      "cell_type": "markdown",
      "source": [
        "Application of greatest common denominator"
      ],
      "metadata": {
        "id": "zW9OziAfzu1C"
      }
    },
    {
      "cell_type": "code",
      "source": [
        "a = 16\n",
        "b = 88\n",
        "\n",
        "fact = math.gcd(a,b)\n",
        "fact"
      ],
      "metadata": {
        "colab": {
          "base_uri": "https://localhost:8080/"
        },
        "id": "dNq9p-4hzt8Q",
        "outputId": "cc2221cd-308f-4030-ef62-3518e0a4abc6"
      },
      "execution_count": 46,
      "outputs": [
        {
          "output_type": "execute_result",
          "data": {
            "text/plain": [
              "8"
            ]
          },
          "metadata": {},
          "execution_count": 46
        }
      ]
    },
    {
      "cell_type": "markdown",
      "source": [
        "---\n",
        "### **Exercise 1**\n",
        "\n",
        "Prove that:\n",
        "\n",
        " $a*c, b*c = c*gcd(a,b)$"
      ],
      "metadata": {
        "id": "4HIEMjhD5Eam"
      }
    },
    {
      "cell_type": "code",
      "source": [
        "a,b,c = sym.symbols('a,b,c')\n",
        "\n",
        "a = 4\n",
        "b = 3\n",
        "c = 2\n",
        "\n",
        "print(sym.gcd(a*c,b*c))\n",
        "print(c*sym.gcd(a,b))"
      ],
      "metadata": {
        "colab": {
          "base_uri": "https://localhost:8080/"
        },
        "id": "1sVUJtsx1L81",
        "outputId": "26b250ba-83be-43e8-c587-d925ddb14996"
      },
      "execution_count": 47,
      "outputs": [
        {
          "output_type": "stream",
          "name": "stdout",
          "text": [
            "2\n",
            "2\n"
          ]
        }
      ]
    }
  ]
}