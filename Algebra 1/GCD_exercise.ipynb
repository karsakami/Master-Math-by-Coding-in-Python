{
  "nbformat": 4,
  "nbformat_minor": 0,
  "metadata": {
    "colab": {
      "provenance": [],
      "authorship_tag": "ABX9TyMrRqvk/KcOaZTcnKFkypxS",
      "include_colab_link": true
    },
    "kernelspec": {
      "name": "python3",
      "display_name": "Python 3"
    },
    "language_info": {
      "name": "python"
    }
  },
  "cells": [
    {
      "cell_type": "markdown",
      "metadata": {
        "id": "view-in-github",
        "colab_type": "text"
      },
      "source": [
        "<a href=\"https://colab.research.google.com/github/karsakami/Master-Math-by-Coding-in-Python/blob/main/Algebra%201/GCD_exercise.ipynb\" target=\"_parent\"><img src=\"https://colab.research.google.com/assets/colab-badge.svg\" alt=\"Open In Colab\"/></a>"
      ]
    },
    {
      "cell_type": "code",
      "execution_count": 21,
      "metadata": {
        "id": "BCxjUEpy8nJ7"
      },
      "outputs": [],
      "source": [
        "import numpy as np\n",
        "import sympy as sym\n",
        "import math\n",
        "from IPython.display import Math, display"
      ]
    },
    {
      "cell_type": "code",
      "source": [
        "# Create a matrix taht contains 10 rows and 15 cols, each element is 99\n",
        "n = 10\n",
        "m = 15\n",
        "\n",
        "mtrx = np.zeros([n,m])+99\n",
        "\n",
        "\n",
        "# Populate matrix such that the i row and j column contain gcd(i+1, j+1)\n",
        "for row in range(0,n):\n",
        "  for col in range(0,m):\n",
        "    mtrx[row,col] = math.gcd(row+1, col+1)\n",
        "\n",
        "mtrx"
      ],
      "metadata": {
        "colab": {
          "base_uri": "https://localhost:8080/"
        },
        "id": "z9eL4H288pEv",
        "outputId": "d900928b-b229-4e00-deca-34e68acdb653"
      },
      "execution_count": 29,
      "outputs": [
        {
          "output_type": "execute_result",
          "data": {
            "text/plain": [
              "array([[ 1.,  1.,  1.,  1.,  1.,  1.,  1.,  1.,  1.,  1.,  1.,  1.,  1.,\n",
              "         1.,  1.],\n",
              "       [ 1.,  2.,  1.,  2.,  1.,  2.,  1.,  2.,  1.,  2.,  1.,  2.,  1.,\n",
              "         2.,  1.],\n",
              "       [ 1.,  1.,  3.,  1.,  1.,  3.,  1.,  1.,  3.,  1.,  1.,  3.,  1.,\n",
              "         1.,  3.],\n",
              "       [ 1.,  2.,  1.,  4.,  1.,  2.,  1.,  4.,  1.,  2.,  1.,  4.,  1.,\n",
              "         2.,  1.],\n",
              "       [ 1.,  1.,  1.,  1.,  5.,  1.,  1.,  1.,  1.,  5.,  1.,  1.,  1.,\n",
              "         1.,  5.],\n",
              "       [ 1.,  2.,  3.,  2.,  1.,  6.,  1.,  2.,  3.,  2.,  1.,  6.,  1.,\n",
              "         2.,  3.],\n",
              "       [ 1.,  1.,  1.,  1.,  1.,  1.,  7.,  1.,  1.,  1.,  1.,  1.,  1.,\n",
              "         7.,  1.],\n",
              "       [ 1.,  2.,  1.,  4.,  1.,  2.,  1.,  8.,  1.,  2.,  1.,  4.,  1.,\n",
              "         2.,  1.],\n",
              "       [ 1.,  1.,  3.,  1.,  1.,  3.,  1.,  1.,  9.,  1.,  1.,  3.,  1.,\n",
              "         1.,  3.],\n",
              "       [ 1.,  2.,  1.,  2.,  5.,  2.,  1.,  2.,  1., 10.,  1.,  2.,  1.,\n",
              "         2.,  5.]])"
            ]
          },
          "metadata": {},
          "execution_count": 29
        }
      ]
    }
  ]
}