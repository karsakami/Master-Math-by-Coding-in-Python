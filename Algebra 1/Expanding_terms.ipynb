{
  "nbformat": 4,
  "nbformat_minor": 0,
  "metadata": {
    "colab": {
      "provenance": [],
      "collapsed_sections": [],
      "authorship_tag": "ABX9TyMmXsFopcwE9532ZaMSsRpU",
      "include_colab_link": true
    },
    "kernelspec": {
      "name": "python3",
      "display_name": "Python 3"
    },
    "language_info": {
      "name": "python"
    }
  },
  "cells": [
    {
      "cell_type": "markdown",
      "metadata": {
        "id": "view-in-github",
        "colab_type": "text"
      },
      "source": [
        "<a href=\"https://colab.research.google.com/github/karsakami/Master-Math-by-Coding-in-Python/blob/main/Expanding_terms.ipynb\" target=\"_parent\"><img src=\"https://colab.research.google.com/assets/colab-badge.svg\" alt=\"Open In Colab\"/></a>"
      ]
    },
    {
      "cell_type": "markdown",
      "source": [
        "# Expanding terms example\n",
        "$a(b+c) = ab+ac$ \\\n",
        "$(a+b)(c+d)=(ac+ad)+(bc+bd) = ac + ad + bc + bd$"
      ],
      "metadata": {
        "id": "2K5TrCSd2rra"
      }
    },
    {
      "cell_type": "code",
      "execution_count": 1,
      "metadata": {
        "id": "mkpfFTQ32YuG"
      },
      "outputs": [],
      "source": [
        "import sympy as sym\n",
        "from IPython.display import display,Math"
      ]
    },
    {
      "cell_type": "code",
      "source": [
        "from sympy.abc import x\n",
        "\n",
        "term1 = (4*x + 5)\n",
        "term2 = x\n",
        "\n",
        "display(term1*term2)\n",
        "display(sym.expand(term1*term2))"
      ],
      "metadata": {
        "colab": {
          "base_uri": "https://localhost:8080/",
          "height": 60
        },
        "id": "aJMw1LUZ4BhM",
        "outputId": "ac8776f2-c5cd-412f-a356-5c5db06ae84d"
      },
      "execution_count": 2,
      "outputs": [
        {
          "output_type": "display_data",
          "data": {
            "text/plain": [
              "x*(4*x + 5)"
            ],
            "text/latex": "$\\displaystyle x \\left(4 x + 5\\right)$"
          },
          "metadata": {}
        },
        {
          "output_type": "display_data",
          "data": {
            "text/plain": [
              "4*x**2 + 5*x"
            ],
            "text/latex": "$\\displaystyle 4 x^{2} + 5 x$"
          },
          "metadata": {}
        }
      ]
    },
    {
      "cell_type": "code",
      "source": [
        "term3 = x-7\n",
        "\n",
        "display(sym.expand(term1*term3))"
      ],
      "metadata": {
        "colab": {
          "base_uri": "https://localhost:8080/",
          "height": 38
        },
        "id": "wayRoE3A4NAO",
        "outputId": "49e974d6-7b73-4a0a-f167-8eb6899d7f9e"
      },
      "execution_count": 3,
      "outputs": [
        {
          "output_type": "display_data",
          "data": {
            "text/plain": [
              "4*x**2 - 23*x - 35"
            ],
            "text/latex": "$\\displaystyle 4 x^{2} - 23 x - 35$"
          },
          "metadata": {}
        }
      ]
    },
    {
      "cell_type": "code",
      "source": [
        "from sympy.abc import y\n",
        "\n",
        "expr = x*(2*y**2 - 5**x/x)\n",
        "display(expr)\n",
        "display(sym.expand(expr))"
      ],
      "metadata": {
        "colab": {
          "base_uri": "https://localhost:8080/",
          "height": 79
        },
        "id": "o2Lf43RT56u2",
        "outputId": "fa5d0a44-46b2-498c-ce39-2739151ee9d7"
      },
      "execution_count": 4,
      "outputs": [
        {
          "output_type": "display_data",
          "data": {
            "text/plain": [
              "x*(-5**x/x + 2*y**2)"
            ],
            "text/latex": "$\\displaystyle x \\left(- \\frac{5^{x}}{x} + 2 y^{2}\\right)$"
          },
          "metadata": {}
        },
        {
          "output_type": "display_data",
          "data": {
            "text/plain": [
              "-5**x + 2*x*y**2"
            ],
            "text/latex": "$\\displaystyle - 5^{x} + 2 x y^{2}$"
          },
          "metadata": {}
        }
      ]
    },
    {
      "cell_type": "markdown",
      "source": [
        "---\n",
        "# Expanding exercises"
      ],
      "metadata": {
        "id": "HkVLrY2-8Sha"
      }
    },
    {
      "cell_type": "code",
      "source": [
        "fxy = (4+x)*(2-y)\n",
        "\n",
        "numrange = [1,2]\n",
        "\n",
        "for xi in numrange:\n",
        "  for yi in numrange:\n",
        "    print('When x=%g and y=%g fxy is equal %g' %(xi,yi, fxy.subs({x:xi, y:yi})))"
      ],
      "metadata": {
        "colab": {
          "base_uri": "https://localhost:8080/"
        },
        "id": "f7NI7iZb6ZMV",
        "outputId": "b7641747-1bc3-430f-a370-58c0921052e9"
      },
      "execution_count": 26,
      "outputs": [
        {
          "output_type": "stream",
          "name": "stdout",
          "text": [
            "When x=1 and y=1 fxy is equal 5\n",
            "When x=1 and y=2 fxy is equal 0\n",
            "When x=2 and y=1 fxy is equal 6\n",
            "When x=2 and y=2 fxy is equal 0\n"
          ]
        }
      ]
    }
  ]
}
