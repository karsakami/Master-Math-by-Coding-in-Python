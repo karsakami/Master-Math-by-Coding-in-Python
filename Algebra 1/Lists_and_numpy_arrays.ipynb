{
  "nbformat": 4,
  "nbformat_minor": 0,
  "metadata": {
    "colab": {
      "provenance": [],
      "authorship_tag": "ABX9TyPRHlWqGII51DKdZcj4Prwj",
      "include_colab_link": true
    },
    "kernelspec": {
      "name": "python3",
      "display_name": "Python 3"
    },
    "language_info": {
      "name": "python"
    }
  },
  "cells": [
    {
      "cell_type": "markdown",
      "metadata": {
        "id": "view-in-github",
        "colab_type": "text"
      },
      "source": [
        "<a href=\"https://colab.research.google.com/github/karsakami/Master-Math-by-Coding-in-Python/blob/main/Algebra%201/Lists_and_numpy_arrays.ipynb\" target=\"_parent\"><img src=\"https://colab.research.google.com/assets/colab-badge.svg\" alt=\"Open In Colab\"/></a>"
      ]
    },
    {
      "cell_type": "code",
      "execution_count": null,
      "metadata": {
        "colab": {
          "base_uri": "https://localhost:8080/"
        },
        "id": "wz8CAfu_MNLu",
        "outputId": "014ea83b-e127-45a2-852b-6193554b4268"
      },
      "outputs": [
        {
          "output_type": "execute_result",
          "data": {
            "text/plain": [
              "[0, 1, 2, 3, 4, 5, 0, 1, 2, 3, 4, 5, 0, 1, 2, 3, 4, 5]"
            ]
          },
          "metadata": {},
          "execution_count": 13
        }
      ],
      "source": [
        "# int list\n",
        "aList = [0,1,2,3,4,5]\n",
        "\n",
        "# string list\n",
        "sList = ['0', '1', '2', '3', '4', '5']\n",
        "\n",
        "aList * 3"
      ]
    },
    {
      "cell_type": "code",
      "source": [
        "# lets use numpy lists now\n",
        "import numpy as np"
      ],
      "metadata": {
        "id": "as7R3WIBM0c3"
      },
      "execution_count": null,
      "outputs": []
    },
    {
      "cell_type": "code",
      "source": [
        "# convert int list to numpy array\n",
        "aList_np = np.array(aList)\n",
        "\n",
        "# lets see two classes \n",
        "print(type(aList))\n",
        "print(type(aList_np))"
      ],
      "metadata": {
        "colab": {
          "base_uri": "https://localhost:8080/"
        },
        "id": "dbIGe32lMayG",
        "outputId": "a53d36dd-ad94-461a-a210-676fd3c81ef2"
      },
      "execution_count": null,
      "outputs": [
        {
          "output_type": "stream",
          "name": "stdout",
          "text": [
            "<class 'list'>\n",
            "<class 'numpy.ndarray'>\n"
          ]
        }
      ]
    },
    {
      "cell_type": "code",
      "source": [
        "# lets see difference\n",
        "print(aList)\n",
        "print(aList_np)"
      ],
      "metadata": {
        "colab": {
          "base_uri": "https://localhost:8080/"
        },
        "id": "NlDmIjOVMvm2",
        "outputId": "985a33e0-6cc8-4455-fce0-cca89f092b3c"
      },
      "execution_count": null,
      "outputs": [
        {
          "output_type": "stream",
          "name": "stdout",
          "text": [
            "[0, 1, 2, 3, 4, 5]\n",
            "[0 1 2 3 4 5]\n"
          ]
        }
      ]
    },
    {
      "cell_type": "code",
      "source": [
        "# now if we multiply this numpy list, there is not repeated, the values are multiplied\n",
        "aList_np * 3"
      ],
      "metadata": {
        "colab": {
          "base_uri": "https://localhost:8080/"
        },
        "id": "tdqGMr7RNFhH",
        "outputId": "e00ecac8-ae7e-40f1-b0c9-b57c5f1322d7"
      },
      "execution_count": null,
      "outputs": [
        {
          "output_type": "execute_result",
          "data": {
            "text/plain": [
              "array([ 0,  3,  6,  9, 12, 15])"
            ]
          },
          "metadata": {},
          "execution_count": 12
        }
      ]
    },
    {
      "cell_type": "markdown",
      "source": [
        "### Adding a int into list and numpy array"
      ],
      "metadata": {
        "id": "8ZBBxdMdYOTm"
      }
    },
    {
      "cell_type": "code",
      "source": [
        "print(aList_np + [3])\n",
        "print(aList + [3])"
      ],
      "metadata": {
        "colab": {
          "base_uri": "https://localhost:8080/"
        },
        "id": "KZ0_wDquNYn8",
        "outputId": "0bed3040-16c6-4190-fefe-dbb6ac549da4"
      },
      "execution_count": null,
      "outputs": [
        {
          "output_type": "stream",
          "name": "stdout",
          "text": [
            "[3 4 5 6 7 8]\n",
            "[0, 1, 2, 3, 4, 5, 3]\n"
          ]
        }
      ]
    },
    {
      "cell_type": "markdown",
      "source": [
        "## Exercise"
      ],
      "metadata": {
        "id": "GUUB_1_4axjf"
      }
    },
    {
      "cell_type": "code",
      "source": [
        "list1 = [3,4]\n",
        "list2 = [2,['3', '4', '5']]\n",
        "list3 = [5.2, 7.4, 5.5]\n",
        "list4 = [2,3,4,[4,5,6]]\n",
        "\n",
        "print(\"list element 0 is\", list1[0], \"and is of type\", type(list1))\n",
        "print(\"list element 1 is\", list2[1], \"and is of type\", type(list2))\n",
        "print(\"list element 2 is\", list3[2], \"and is of type\", type(list3))\n",
        "print(\"list element 3 is\", list4[3], \"and is of type\", type(list4))"
      ],
      "metadata": {
        "id": "a5oIHJvmYV41",
        "colab": {
          "base_uri": "https://localhost:8080/"
        },
        "outputId": "f9eea551-7ff5-435f-ed58-c688b0a4c8fe"
      },
      "execution_count": null,
      "outputs": [
        {
          "output_type": "stream",
          "name": "stdout",
          "text": [
            "list element 0 is 3 and is of type <class 'list'>\n",
            "list element 1 is ['3', '4', '5'] and is of type <class 'list'>\n",
            "list element 2 is 5.5 and is of type <class 'list'>\n",
            "list element 3 is [4, 5, 6] and is of type <class 'list'>\n"
          ]
        }
      ]
    },
    {
      "cell_type": "code",
      "source": [],
      "metadata": {
        "id": "7y8dTa6UbDB_"
      },
      "execution_count": null,
      "outputs": []
    }
  ]
}