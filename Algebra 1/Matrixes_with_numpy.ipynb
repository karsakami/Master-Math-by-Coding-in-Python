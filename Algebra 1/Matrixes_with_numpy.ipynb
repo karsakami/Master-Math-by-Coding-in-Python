{
  "nbformat": 4,
  "nbformat_minor": 0,
  "metadata": {
    "colab": {
      "provenance": [],
      "authorship_tag": "ABX9TyOIgWoqqSiaFSlfy1nbGgc1",
      "include_colab_link": true
    },
    "kernelspec": {
      "name": "python3",
      "display_name": "Python 3"
    },
    "language_info": {
      "name": "python"
    }
  },
  "cells": [
    {
      "cell_type": "markdown",
      "metadata": {
        "id": "view-in-github",
        "colab_type": "text"
      },
      "source": [
        "<a href=\"https://colab.research.google.com/github/karsakami/Master-Math-by-Coding-in-Python/blob/main/Algebra%201/Matrixes_with_numpy.ipynb\" target=\"_parent\"><img src=\"https://colab.research.google.com/assets/colab-badge.svg\" alt=\"Open In Colab\"/></a>"
      ]
    },
    {
      "cell_type": "markdown",
      "source": [
        "# **MATRIXES WITH NUMPY**"
      ],
      "metadata": {
        "id": "cy5ArWHEjKn8"
      }
    },
    {
      "cell_type": "code",
      "execution_count": null,
      "metadata": {
        "id": "VkmCVvrAcHqR"
      },
      "outputs": [],
      "source": [
        "import numpy as np\n",
        "import sympy as sym\n",
        "from IPython.display import display,Math"
      ]
    },
    {
      "cell_type": "code",
      "source": [
        "# Create and see a data type of object\n",
        "A = np.array([[1,2], [5,3]])\n",
        "\n",
        "type(A)"
      ],
      "metadata": {
        "colab": {
          "base_uri": "https://localhost:8080/"
        },
        "id": "kXaVV3G7cQlb",
        "outputId": "b734069d-cc22-4ea3-8186-16934b793cff"
      },
      "execution_count": null,
      "outputs": [
        {
          "output_type": "execute_result",
          "data": {
            "text/plain": [
              "numpy.ndarray"
            ]
          },
          "metadata": {},
          "execution_count": 3
        }
      ]
    },
    {
      "cell_type": "code",
      "source": [
        "# Print it raw\n",
        "print(A)"
      ],
      "metadata": {
        "colab": {
          "base_uri": "https://localhost:8080/"
        },
        "id": "QyKjrovwdD0E",
        "outputId": "56b106d8-dcb5-4a48-c464-bf7f0596d017"
      },
      "execution_count": null,
      "outputs": [
        {
          "output_type": "stream",
          "name": "stdout",
          "text": [
            "[[1 2]\n",
            " [5 3]]\n"
          ]
        }
      ]
    },
    {
      "cell_type": "code",
      "source": [
        "# Print it with sympy\n",
        "sym.sympify(A)"
      ],
      "metadata": {
        "colab": {
          "base_uri": "https://localhost:8080/",
          "height": 58
        },
        "id": "odCpb4pqcZWu",
        "outputId": "7461e725-bf19-4e73-8b88-3c54d8644b3e"
      },
      "execution_count": null,
      "outputs": [
        {
          "output_type": "execute_result",
          "data": {
            "text/plain": [
              "[[1, 2], [5, 3]]"
            ],
            "text/latex": "$\\displaystyle \\left[\\begin{matrix}1 & 2\\\\5 & 3\\end{matrix}\\right]$"
          },
          "metadata": {},
          "execution_count": 5
        }
      ]
    },
    {
      "cell_type": "code",
      "source": [
        "# Creating a matrix of zeros\n",
        "example = np.zeros([2,3])"
      ],
      "metadata": {
        "id": "VbrjSnlycpjx"
      },
      "execution_count": null,
      "outputs": []
    },
    {
      "cell_type": "code",
      "source": [
        "# Change a value in this matrix\n",
        "example[0,2] = 4\n",
        "example"
      ],
      "metadata": {
        "colab": {
          "base_uri": "https://localhost:8080/"
        },
        "id": "QEqURkEJdjEH",
        "outputId": "88326f1e-a626-4d3b-b74f-a42d9c592daa"
      },
      "execution_count": null,
      "outputs": [
        {
          "output_type": "execute_result",
          "data": {
            "text/plain": [
              "array([[0., 0., 4.],\n",
              "       [0., 0., 0.]])"
            ]
          },
          "metadata": {},
          "execution_count": 7
        }
      ]
    },
    {
      "cell_type": "code",
      "source": [
        "# Change another\n",
        "example[0,1] = 3\n",
        "example "
      ],
      "metadata": {
        "colab": {
          "base_uri": "https://localhost:8080/"
        },
        "id": "R7RPHZ1Kdse4",
        "outputId": "4e93d7fc-fa65-4db4-e977-138ada3d7bbe"
      },
      "execution_count": null,
      "outputs": [
        {
          "output_type": "execute_result",
          "data": {
            "text/plain": [
              "array([[0., 3., 4.],\n",
              "       [0., 0., 0.]])"
            ]
          },
          "metadata": {},
          "execution_count": 8
        }
      ]
    },
    {
      "cell_type": "markdown",
      "source": [
        "Lets change all values. The first for loop respond of rows, and second for columns. So the external loop goes, then it change three times value in matrix, and second loop goes on - second row. "
      ],
      "metadata": {
        "id": "w28QEaF-1Ues"
      }
    },
    {
      "cell_type": "code",
      "source": [
        "for rowi in range(2):\n",
        "  for coli in range(3):\n",
        "    example[rowi,coli] = 2\n",
        "  \n",
        "example"
      ],
      "metadata": {
        "colab": {
          "base_uri": "https://localhost:8080/"
        },
        "id": "q5PwiOYEeMxv",
        "outputId": "1d008cbb-b015-4913-faa5-a3315ba33827"
      },
      "execution_count": null,
      "outputs": [
        {
          "output_type": "execute_result",
          "data": {
            "text/plain": [
              "array([[2., 2., 2.],\n",
              "       [2., 2., 2.]])"
            ]
          },
          "metadata": {},
          "execution_count": 9
        }
      ]
    },
    {
      "cell_type": "markdown",
      "source": [
        "### Calculation of all possible outcomes of a double coin toss with nested for loops. So we can deduct, that a external loop is getting executed, when a internal loop is finished. "
      ],
      "metadata": {
        "id": "rtcF0AJojFVa"
      }
    },
    {
      "cell_type": "code",
      "source": [
        "for i in range(2):\n",
        "  for j in range(2):\n",
        "    print(i,j)"
      ],
      "metadata": {
        "colab": {
          "base_uri": "https://localhost:8080/"
        },
        "id": "0Hn-qrr5imoy",
        "outputId": "94012d08-13f8-4361-c300-c42db03174b9"
      },
      "execution_count": null,
      "outputs": [
        {
          "output_type": "stream",
          "name": "stdout",
          "text": [
            "0 0\n",
            "0 1\n",
            "1 0\n",
            "1 1\n"
          ]
        }
      ]
    },
    {
      "cell_type": "markdown",
      "source": [
        "### **Matrix exercise.**\n",
        "\n",
        "We have to solve a equation, all possible solutions.\n",
        "A external for loop iterate over a rows, and internal over columns. "
      ],
      "metadata": {
        "id": "vx42fAfC2VgS"
      }
    },
    {
      "cell_type": "code",
      "source": [
        "x, y = sym.symbols('x y')\n",
        "\n",
        "fxy = (4+x) * (2-y)\n",
        "\n",
        "yset = range(0,5)\n",
        "\n",
        "matrx = np.zeros([len(yset), len(yset)])\n",
        "\n",
        "for row in yset:\n",
        "  for col in yset:\n",
        "    matrx[row,col] = fxy.subs({x:row, y:col})\n",
        "\n",
        "matrx"
      ],
      "metadata": {
        "colab": {
          "base_uri": "https://localhost:8080/"
        },
        "id": "C9EfoVMA2UJp",
        "outputId": "7307035a-1114-4d51-d5ca-a6be0753fe3e"
      },
      "execution_count": null,
      "outputs": [
        {
          "output_type": "execute_result",
          "data": {
            "text/plain": [
              "array([[  8.,   4.,   0.,  -4.,  -8.],\n",
              "       [ 10.,   5.,   0.,  -5., -10.],\n",
              "       [ 12.,   6.,   0.,  -6., -12.],\n",
              "       [ 14.,   7.,   0.,  -7., -14.],\n",
              "       [ 16.,   8.,   0.,  -8., -16.]])"
            ]
          },
          "metadata": {},
          "execution_count": 40
        }
      ]
    },
    {
      "cell_type": "markdown",
      "source": [
        "# **Multiplication table**\n"
      ],
      "metadata": {
        "id": "idHXuiIMgZeW"
      }
    },
    {
      "cell_type": "code",
      "source": [
        "nums = range(1,11)\n",
        "\n",
        "mult = np.zeros(( len(nums),len(nums) ))\n",
        "\n",
        "for rowi in nums:\n",
        "  for coli in nums:\n",
        "    mult[rowi-1,coli-1] = rowi*coli\n",
        "\n",
        "sym.sympify(mult)"
      ],
      "metadata": {
        "colab": {
          "base_uri": "https://localhost:8080/",
          "height": 220
        },
        "id": "2PjZB2s_i8XE",
        "outputId": "65ff3e1f-4ef8-4dbf-b859-c54ef21b0eff"
      },
      "execution_count": null,
      "outputs": [
        {
          "output_type": "execute_result",
          "data": {
            "text/plain": [
              "[[1.0, 2.0, 3.0, 4.0, 5.0, 6.0, 7.0, 8.0, 9.0, 10.0], [2.0, 4.0, 6.0, 8.0, 10.0, 12.0, 14.0, 16.0, 18.0, 20.0], [3.0, 6.0, 9.0, 12.0, 15.0, 18.0, 21.0, 24.0, 27.0, 30.0], [4.0, 8.0, 12.0, 16.0, 20.0, 24.0, 28.0, 32.0, 36.0, 40.0], [5.0, 10.0, 15.0, 20.0, 25.0, 30.0, 35.0, 40.0, 45.0, 50.0], [6.0, 12.0, 18.0, 24.0, 30.0, 36.0, 42.0, 48.0, 54.0, 60.0], [7.0, 14.0, 21.0, 28.0, 35.0, 42.0, 49.0, 56.0, 63.0, 70.0], [8.0, 16.0, 24.0, 32.0, 40.0, 48.0, 56.0, 64.0, 72.0, 80.0], [9.0, 18.0, 27.0, 36.0, 45.0, 54.0, 63.0, 72.0, 81.0, 90.0], [10.0, 20.0, 30.0, 40.0, 50.0, 60.0, 70.0, 80.0, 90.0, 100.0]]"
            ],
            "text/latex": "$\\displaystyle \\left[\\begin{matrix}1.0 & 2.0 & 3.0 & 4.0 & 5.0 & 6.0 & 7.0 & 8.0 & 9.0 & 10.0\\\\2.0 & 4.0 & 6.0 & 8.0 & 10.0 & 12.0 & 14.0 & 16.0 & 18.0 & 20.0\\\\3.0 & 6.0 & 9.0 & 12.0 & 15.0 & 18.0 & 21.0 & 24.0 & 27.0 & 30.0\\\\4.0 & 8.0 & 12.0 & 16.0 & 20.0 & 24.0 & 28.0 & 32.0 & 36.0 & 40.0\\\\5.0 & 10.0 & 15.0 & 20.0 & 25.0 & 30.0 & 35.0 & 40.0 & 45.0 & 50.0\\\\6.0 & 12.0 & 18.0 & 24.0 & 30.0 & 36.0 & 42.0 & 48.0 & 54.0 & 60.0\\\\7.0 & 14.0 & 21.0 & 28.0 & 35.0 & 42.0 & 49.0 & 56.0 & 63.0 & 70.0\\\\8.0 & 16.0 & 24.0 & 32.0 & 40.0 & 48.0 & 56.0 & 64.0 & 72.0 & 80.0\\\\9.0 & 18.0 & 27.0 & 36.0 & 45.0 & 54.0 & 63.0 & 72.0 & 81.0 & 90.0\\\\10.0 & 20.0 & 30.0 & 40.0 & 50.0 & 60.0 & 70.0 & 80.0 & 90.0 & 100.0\\end{matrix}\\right]$"
          },
          "metadata": {},
          "execution_count": 73
        }
      ]
    }
  ]
}