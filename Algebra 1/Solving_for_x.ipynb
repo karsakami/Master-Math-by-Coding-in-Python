{
  "nbformat": 4,
  "nbformat_minor": 0,
  "metadata": {
    "colab": {
      "provenance": [],
      "authorship_tag": "ABX9TyOVJnxbx7qVLjLFr/nGcpo4",
      "include_colab_link": true
    },
    "kernelspec": {
      "name": "python3",
      "display_name": "Python 3"
    },
    "language_info": {
      "name": "python"
    }
  },
  "cells": [
    {
      "cell_type": "markdown",
      "metadata": {
        "id": "view-in-github",
        "colab_type": "text"
      },
      "source": [
        "<a href=\"https://colab.research.google.com/github/karsakami/Master-Math-by-Coding-in-Python/blob/main/Algebra%201/Solving_for_x.ipynb\" target=\"_parent\"><img src=\"https://colab.research.google.com/assets/colab-badge.svg\" alt=\"Open In Colab\"/></a>"
      ]
    },
    {
      "cell_type": "code",
      "execution_count": null,
      "metadata": {
        "id": "u0VU_xCgUGS5"
      },
      "outputs": [],
      "source": [
        "import sympy as sym\n",
        "from IPython.display import display, Math"
      ]
    },
    {
      "cell_type": "code",
      "source": [
        "x = sym.symbols('x')\n",
        "\n",
        "expr = 2*x + 4 - 9\n",
        "sol = sym.solve(expr)\n",
        "\n",
        "display(Math('\\\\text{The solution is } %s \\\\text{ is x=} %s ' %(sym.latex(expr),sol)))"
      ],
      "metadata": {
        "colab": {
          "base_uri": "https://localhost:8080/",
          "height": 38
        },
        "id": "nFumm9qbVQxA",
        "outputId": "de88748b-4938-4bd0-d038-b645ba21e731"
      },
      "execution_count": null,
      "outputs": [
        {
          "output_type": "display_data",
          "data": {
            "text/plain": [
              "<IPython.core.display.Math object>"
            ],
            "text/latex": "$\\displaystyle \\text{The solution is } 2 x - 5 \\text{ is x=} [5/2] $"
          },
          "metadata": {}
        }
      ]
    },
    {
      "cell_type": "markdown",
      "source": [
        "Using loop to print out a solutions"
      ],
      "metadata": {
        "id": "Rgb-52GIb0k1"
      }
    },
    {
      "cell_type": "code",
      "source": [
        "print(sol)"
      ],
      "metadata": {
        "colab": {
          "base_uri": "https://localhost:8080/"
        },
        "id": "psB1Re-rdS98",
        "outputId": "811f55a5-77c7-44a5-b29a-46fdb270c640"
      },
      "execution_count": null,
      "outputs": [
        {
          "output_type": "stream",
          "name": "stdout",
          "text": [
            "[5/2]\n"
          ]
        }
      ]
    },
    {
      "cell_type": "code",
      "source": [
        "expr = x**2 - 4\n",
        "sol = sym.solve(expr)\n",
        "\n",
        "for i in range(0,len(sol)):\n",
        "  display(Math('\\\\text{The %s solution of } %s \\\\text{ is x=} %s ' %(i+1,sym.latex(expr),sol[i])))"
      ],
      "metadata": {
        "colab": {
          "base_uri": "https://localhost:8080/",
          "height": 60
        },
        "id": "Zky5Z0ntWNZg",
        "outputId": "3ebda95e-785f-4679-e40b-bf3cf69f7eb7"
      },
      "execution_count": null,
      "outputs": [
        {
          "output_type": "display_data",
          "data": {
            "text/plain": [
              "<IPython.core.display.Math object>"
            ],
            "text/latex": "$\\displaystyle \\text{The 1 solution of } x^{2} - 4 \\text{ is x=} -2 $"
          },
          "metadata": {}
        },
        {
          "output_type": "display_data",
          "data": {
            "text/plain": [
              "<IPython.core.display.Math object>"
            ],
            "text/latex": "$\\displaystyle \\text{The 2 solution of } x^{2} - 4 \\text{ is x=} 2 $"
          },
          "metadata": {}
        }
      ]
    },
    {
      "cell_type": "markdown",
      "source": [
        "Multiple variables (unknowns) in same equation. How we solve it?"
      ],
      "metadata": {
        "id": "zM9epsluhPgJ"
      }
    },
    {
      "cell_type": "code",
      "source": [
        "y = sym.symbols('y')\n",
        "\n",
        "expr = x/4 - x*y + 5"
      ],
      "metadata": {
        "id": "sBPmWoNEdwfE"
      },
      "execution_count": null,
      "outputs": []
    },
    {
      "cell_type": "markdown",
      "source": [
        "### If we want function to solve a specific unknown, we can pass this unknown to second argument of the **solve** function"
      ],
      "metadata": {
        "id": "zh9DZXby5yZ8"
      }
    },
    {
      "cell_type": "code",
      "source": [
        "# displaying our equation\n",
        "display(expr)"
      ],
      "metadata": {
        "colab": {
          "base_uri": "https://localhost:8080/",
          "height": 47
        },
        "id": "yHzvol-m6fFZ",
        "outputId": "31cea3fe-7551-4bd8-9596-7bd5ae0c8f0e"
      },
      "execution_count": null,
      "outputs": [
        {
          "output_type": "display_data",
          "data": {
            "text/plain": [
              "-x*y + x/4 + 5"
            ],
            "text/latex": "$\\displaystyle - x y + \\frac{x}{4} + 5$"
          },
          "metadata": {}
        }
      ]
    },
    {
      "cell_type": "code",
      "source": [
        "# solve for x\n",
        "sym.solve(expr, x)"
      ],
      "metadata": {
        "colab": {
          "base_uri": "https://localhost:8080/"
        },
        "id": "yw6FuySw1x8w",
        "outputId": "e061000b-4d68-4527-cb4d-7967fa28712c"
      },
      "execution_count": null,
      "outputs": [
        {
          "output_type": "execute_result",
          "data": {
            "text/plain": [
              "[20/(4*y - 1)]"
            ]
          },
          "metadata": {},
          "execution_count": 72
        }
      ]
    },
    {
      "cell_type": "code",
      "source": [
        "# solver for y\n",
        "sym.solve(expr, y)"
      ],
      "metadata": {
        "colab": {
          "base_uri": "https://localhost:8080/"
        },
        "id": "D8TKbmqz6Jaj",
        "outputId": "fe3b5725-93f2-440d-fd61-e50f7baee4e6"
      },
      "execution_count": null,
      "outputs": [
        {
          "output_type": "execute_result",
          "data": {
            "text/plain": [
              "[(x + 20)/(4*x)]"
            ]
          },
          "metadata": {},
          "execution_count": 73
        }
      ]
    },
    {
      "cell_type": "markdown",
      "source": [
        "#### Second example"
      ],
      "metadata": {
        "id": "uTRAzbo7DpK6"
      }
    },
    {
      "cell_type": "code",
      "source": [
        "expr2 = y + 2 + x\n",
        "\n",
        "sym.solve(expr2, x)"
      ],
      "metadata": {
        "colab": {
          "base_uri": "https://localhost:8080/"
        },
        "id": "sbxe5Qc86Tjp",
        "outputId": "67dc54e0-5377-4f30-a8ac-b069e7fa4607"
      },
      "execution_count": null,
      "outputs": [
        {
          "output_type": "execute_result",
          "data": {
            "text/plain": [
              "[-y - 2]"
            ]
          },
          "metadata": {},
          "execution_count": 75
        }
      ]
    },
    {
      "cell_type": "markdown",
      "source": [
        "---\n",
        "# EXERCISE 1"
      ],
      "metadata": {
        "id": "8tu4YTyWDxVB"
      }
    },
    {
      "cell_type": "code",
      "source": [
        "# defining q variable as symbol\n",
        "q = sym.symbols('q')\n",
        "\n",
        "# define a equation\n",
        "eq = 3*q + 4/q + 3 - 5*q - 1/q - 1 \n",
        "\n",
        "# see our equation\n",
        "display(sym.simplify(exp))\n",
        "\n",
        "# solve a q, this is list\n",
        "display(Math('q=' + sym.latex(sym.solve(eq,q))))"
      ],
      "metadata": {
        "colab": {
          "base_uri": "https://localhost:8080/",
          "height": 105
        },
        "id": "NkSsqXejDOMT",
        "outputId": "89dd66b4-be2d-4ff6-aaec-f1befee2111b"
      },
      "execution_count": null,
      "outputs": [
        {
          "output_type": "display_data",
          "data": {
            "text/plain": [
              "-2*q + 2 + 3/q"
            ],
            "text/latex": "$\\displaystyle - 2 q + 2 + \\frac{3}{q}$"
          },
          "metadata": {}
        },
        {
          "output_type": "display_data",
          "data": {
            "text/plain": [
              "<IPython.core.display.Math object>"
            ],
            "text/latex": "$\\displaystyle q=\\left[ \\frac{1}{2} - \\frac{\\sqrt{7}}{2}, \\  \\frac{1}{2} + \\frac{\\sqrt{7}}{2}\\right]$"
          },
          "metadata": {}
        }
      ]
    },
    {
      "cell_type": "markdown",
      "source": [
        "---\n",
        "# **EXERCISE 2**\n",
        "Lets try to use **cancel** function, what it does is trying to do is putting as many terms as possible together. Its usefull when we try to align denominator or numerator."
      ],
      "metadata": {
        "id": "BLsx5DBGadOo"
      }
    },
    {
      "cell_type": "code",
      "source": [
        "eq = 2*q + 3*q**2 - 5/q - 4/q**3\n",
        "\n",
        "display(eq)\n",
        "\n",
        "display(sym.cancel(eq))"
      ],
      "metadata": {
        "colab": {
          "base_uri": "https://localhost:8080/",
          "height": 94
        },
        "id": "PjJG0PACEG-C",
        "outputId": "7758bb8f-2e6e-48e7-81af-75f811532bb2"
      },
      "execution_count": null,
      "outputs": [
        {
          "output_type": "display_data",
          "data": {
            "text/plain": [
              "3*q**2 + 2*q - 5/q - 4/q**3"
            ],
            "text/latex": "$\\displaystyle 3 q^{2} + 2 q - \\frac{5}{q} - \\frac{4}{q^{3}}$"
          },
          "metadata": {}
        },
        {
          "output_type": "display_data",
          "data": {
            "text/plain": [
              "(3*q**5 + 2*q**4 - 5*q**2 - 4)/q**3"
            ],
            "text/latex": "$\\displaystyle \\frac{3 q^{5} + 2 q^{4} - 5 q^{2} - 4}{q^{3}}$"
          },
          "metadata": {}
        }
      ]
    },
    {
      "cell_type": "markdown",
      "source": [
        "---\n",
        "# **Exercise 3**"
      ],
      "metadata": {
        "id": "9FlfNUSJfcmm"
      }
    },
    {
      "cell_type": "code",
      "source": [
        "expr = (sym.sqrt(3) + sym.sqrt(15)*q) / (sym.sqrt(2) + sym.sqrt(10)*q)\n",
        "display(expr)"
      ],
      "metadata": {
        "colab": {
          "base_uri": "https://localhost:8080/",
          "height": 61
        },
        "id": "eNI4S-rEaoLX",
        "outputId": "146e4b84-d099-4570-a657-9f0d2d5f2842"
      },
      "execution_count": null,
      "outputs": [
        {
          "output_type": "display_data",
          "data": {
            "text/plain": [
              "(sqrt(15)*q + sqrt(3))/(sqrt(10)*q + sqrt(2))"
            ],
            "text/latex": "$\\displaystyle \\frac{\\sqrt{15} q + \\sqrt{3}}{\\sqrt{10} q + \\sqrt{2}}$"
          },
          "metadata": {}
        }
      ]
    },
    {
      "cell_type": "code",
      "source": [
        "# lets substitute q, for no reason\n",
        "expr.subs(q,10)"
      ],
      "metadata": {
        "colab": {
          "base_uri": "https://localhost:8080/",
          "height": 60
        },
        "id": "rel0SewBcb5m",
        "outputId": "3a071f19-690c-45b7-ec33-afa1745304a9"
      },
      "execution_count": null,
      "outputs": [
        {
          "output_type": "execute_result",
          "data": {
            "text/plain": [
              "(sqrt(3) + 10*sqrt(15))/(sqrt(2) + 10*sqrt(10))"
            ],
            "text/latex": "$\\displaystyle \\frac{\\sqrt{3} + 10 \\sqrt{15}}{\\sqrt{2} + 10 \\sqrt{10}}$"
          },
          "metadata": {},
          "execution_count": 125
        }
      ]
    },
    {
      "cell_type": "code",
      "source": [
        "sym.simplify(expr)"
      ],
      "metadata": {
        "colab": {
          "base_uri": "https://localhost:8080/",
          "height": 55
        },
        "id": "9DhpwrMRvRnA",
        "outputId": "bf7d9ef7-f4d9-4586-bab4-e1496f627177"
      },
      "execution_count": null,
      "outputs": [
        {
          "output_type": "execute_result",
          "data": {
            "text/plain": [
              "sqrt(6)/2"
            ],
            "text/latex": "$\\displaystyle \\frac{\\sqrt{6}}{2}$"
          },
          "metadata": {},
          "execution_count": 126
        }
      ]
    }
  ]
}