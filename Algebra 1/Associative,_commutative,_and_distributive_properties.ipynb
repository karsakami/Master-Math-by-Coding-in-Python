{
  "nbformat": 4,
  "nbformat_minor": 0,
  "metadata": {
    "colab": {
      "provenance": [],
      "authorship_tag": "ABX9TyPlvQ0TPYP7pQSFQiwqK+1j",
      "include_colab_link": true
    },
    "kernelspec": {
      "name": "python3",
      "display_name": "Python 3"
    },
    "language_info": {
      "name": "python"
    }
  },
  "cells": [
    {
      "cell_type": "markdown",
      "metadata": {
        "id": "view-in-github",
        "colab_type": "text"
      },
      "source": [
        "<a href=\"https://colab.research.google.com/github/karsakami/Master-Math-by-Coding-in-Python/blob/main/Algebra%201/Associative%2C_commutative%2C_and_distributive_properties.ipynb\" target=\"_parent\"><img src=\"https://colab.research.google.com/assets/colab-badge.svg\" alt=\"Open In Colab\"/></a>"
      ]
    },
    {
      "cell_type": "markdown",
      "source": [
        "# **The associative rule**\n",
        "\n",
        "$2(3*4) = (2*3)4$ \\\n",
        "$2(12) = (6)*4$ \\\n",
        "$24 = 24$"
      ],
      "metadata": {
        "id": "v6xD73LXXqk6"
      }
    },
    {
      "cell_type": "markdown",
      "source": [
        "---\n",
        "Same as: \\\n",
        "$a(b*c) = (a*b)c$ \\\n",
        "$a(bc) = (ab)c$ \\\n",
        "$abc = abc$"
      ],
      "metadata": {
        "id": "CyMF3kLUYkvH"
      }
    },
    {
      "cell_type": "code",
      "source": [
        "import sympy as sym\n",
        "from IPython.display import display,Math\n",
        "\n",
        "x,y = sym.symbols(\"x,y\")\n",
        "\n",
        "expr1 = x*(2*y)\n",
        "expr2 = (x*2)*y\n",
        "\n",
        "if expr1 == expr2:\n",
        "  print(\"Expressions are equal\")\n",
        "else:\n",
        "  print('Expressions are not equal')"
      ],
      "metadata": {
        "colab": {
          "base_uri": "https://localhost:8080/"
        },
        "id": "Oq6mjul0a0sY",
        "outputId": "2e7b2b7e-5ad2-4f1f-c023-64aca5f95186"
      },
      "execution_count": 23,
      "outputs": [
        {
          "output_type": "stream",
          "name": "stdout",
          "text": [
            "Expressions are equal\n"
          ]
        }
      ]
    },
    {
      "cell_type": "markdown",
      "source": [
        "---\n",
        "# **The commutative rule**\n",
        "$a*b = b*a$ \\\n",
        "\n",
        "\n",
        "$a*b*c = b*a*c = c*a*b$"
      ],
      "metadata": {
        "id": "WQPUv4tHY4Ed"
      }
    },
    {
      "cell_type": "code",
      "source": [
        "expr1 = 3 * 2\n",
        "expr2 = 2 * 3\n",
        "\n",
        "if expr1 == expr2:\n",
        "  print(\"Expressions are equal\")\n",
        "else:\n",
        "  print('Expressions are not equal')"
      ],
      "metadata": {
        "colab": {
          "base_uri": "https://localhost:8080/"
        },
        "id": "0Qb9lZwUbEsG",
        "outputId": "580bf8ad-8f0a-43fa-e0f0-44ea5247465e"
      },
      "execution_count": 10,
      "outputs": [
        {
          "output_type": "stream",
          "name": "stdout",
          "text": [
            "Expressions are equal\n"
          ]
        }
      ]
    },
    {
      "cell_type": "markdown",
      "source": [
        "---\n",
        "# **The distributive rule**\n",
        "$x(z+y) = xz + xy$"
      ],
      "metadata": {
        "id": "OrIGQFqLZWNt"
      }
    },
    {
      "cell_type": "code",
      "execution_count": 12,
      "metadata": {
        "colab": {
          "base_uri": "https://localhost:8080/"
        },
        "id": "8Kwl02vKXFvA",
        "outputId": "557238ea-1ab4-4548-e5ac-4bda51de2a50"
      },
      "outputs": [
        {
          "output_type": "stream",
          "name": "stdout",
          "text": [
            "Expressions are equal\n"
          ]
        }
      ],
      "source": [
        "expr1 = 2*(2+3)\n",
        "expr2 = 4 + 6\n",
        "\n",
        "if expr1 == expr2:\n",
        "  print(\"Expressions are equal\")\n",
        "else:\n",
        "  print('Expressions are not equal')"
      ]
    },
    {
      "cell_type": "markdown",
      "source": [
        "# **Exercise**:\n",
        "\n",
        "$x = w(4-w)+\\frac{1}{w^2}(1+w)$ \\\n",
        "$f_1 = x(y+z)$ \\\n",
        "$f_2 = \\frac{3}{x}+x^2$ \\\n",
        "\n",
        "\n",
        "1. Implement expressions in python\n",
        "2. Display and simplify $f_1*f_2$\n",
        "3. Show that the commutative properity holds"
      ],
      "metadata": {
        "id": "33YC_fgaawsk"
      }
    },
    {
      "cell_type": "code",
      "source": [
        "x,y,z,w = sym.symbols('x,y,z,w')\n",
        "\n",
        "x = w*(4 - w) + 1/w**2 * (1+w)\n",
        "f1 = x*(y+z)\n",
        "f2 = 3/x + x**2\n",
        "\n",
        "display(Math(sym.latex(sym.simplify(f1*f2))))\n",
        "\n",
        "if sym.simplify(f1*f2) == sym.simplify(f2*f1):\n",
        "  print(\"they are the same\")"
      ],
      "metadata": {
        "colab": {
          "base_uri": "https://localhost:8080/",
          "height": 83
        },
        "id": "arjSFc1db-7N",
        "outputId": "dc68583a-5303-4f90-c645-5439289a190f"
      },
      "execution_count": 27,
      "outputs": [
        {
          "output_type": "display_data",
          "data": {
            "text/plain": [
              "<IPython.core.display.Math object>"
            ],
            "text/latex": "$\\displaystyle \\frac{\\left(3 w^{6} + \\left(- w^{3} \\left(w - 4\\right) + w + 1\\right)^{3}\\right) \\left(y + z\\right)}{w^{6}}$"
          },
          "metadata": {}
        },
        {
          "output_type": "stream",
          "name": "stdout",
          "text": [
            "they are the same\n"
          ]
        }
      ]
    }
  ]
}