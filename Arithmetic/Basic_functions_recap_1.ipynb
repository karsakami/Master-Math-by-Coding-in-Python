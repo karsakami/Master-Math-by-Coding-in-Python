{
  "nbformat": 4,
  "nbformat_minor": 0,
  "metadata": {
    "colab": {
      "provenance": [],
      "collapsed_sections": [],
      "authorship_tag": "ABX9TyNXTph/2p0Jg3W6yMMBXJmV",
      "include_colab_link": true
    },
    "kernelspec": {
      "name": "python3",
      "display_name": "Python 3"
    },
    "language_info": {
      "name": "python"
    }
  },
  "cells": [
    {
      "cell_type": "markdown",
      "metadata": {
        "id": "view-in-github",
        "colab_type": "text"
      },
      "source": [
        "<a href=\"https://colab.research.google.com/github/karsakami/Master-Math-by-Coding-in-Python/blob/main/Basic_functions_recap_1.ipynb\" target=\"_parent\"><img src=\"https://colab.research.google.com/assets/colab-badge.svg\" alt=\"Open In Colab\"/></a>"
      ]
    },
    {
      "cell_type": "markdown",
      "source": [
        "# 1"
      ],
      "metadata": {
        "id": "jsbfH5zlVh3D"
      }
    },
    {
      "cell_type": "code",
      "execution_count": null,
      "metadata": {
        "id": "LALwRAVa2UU-"
      },
      "outputs": [],
      "source": [
        "def myfunction(name):\n",
        "  print('Hello', name)"
      ]
    },
    {
      "cell_type": "code",
      "source": [
        "myfunction(\"David\")"
      ],
      "metadata": {
        "colab": {
          "base_uri": "https://localhost:8080/"
        },
        "id": "j9dgxegk2kcv",
        "outputId": "ec1a9621-82ea-4516-9bd4-37e44b8a2894"
      },
      "execution_count": null,
      "outputs": [
        {
          "output_type": "stream",
          "name": "stdout",
          "text": [
            "Hello David\n"
          ]
        }
      ]
    },
    {
      "cell_type": "markdown",
      "source": [
        "# 2"
      ],
      "metadata": {
        "id": "qXFPEDOOVkY1"
      }
    },
    {
      "cell_type": "code",
      "source": [
        "def computeremainder(x,y):\n",
        "  sum = x + y\n",
        "  remainder = x%y\n",
        "\n",
        "  print('%g plus %g is %g, and the remainder of division is %g' %(x,y,sum, remainder))"
      ],
      "metadata": {
        "id": "Jh7yWXQ823Q8"
      },
      "execution_count": null,
      "outputs": []
    },
    {
      "cell_type": "code",
      "source": [
        "computeremainder(100,6)"
      ],
      "metadata": {
        "colab": {
          "base_uri": "https://localhost:8080/"
        },
        "id": "MK3gNx9u3gwE",
        "outputId": "ae15d6fa-e4af-43d2-f540-2fbf524ae8c7"
      },
      "execution_count": null,
      "outputs": [
        {
          "output_type": "stream",
          "name": "stdout",
          "text": [
            "100 plus 6 is 106, and the remainder of division is 4\n"
          ]
        }
      ]
    },
    {
      "cell_type": "markdown",
      "source": [
        "# 3"
      ],
      "metadata": {
        "id": "95SMH0pIVl7e"
      }
    },
    {
      "cell_type": "code",
      "source": [
        "def calculation(x,y):\n",
        "  choose = int(input(\"press 1 to compute the sum of two numbers, or division of them\"))\n",
        "\n",
        "  if choose == 1:\n",
        "    return x+y\n",
        "\n",
        "  if choose == 2:\n",
        "    return x/y"
      ],
      "metadata": {
        "id": "uSOYc7-kTB-q"
      },
      "execution_count": null,
      "outputs": []
    },
    {
      "cell_type": "code",
      "source": [
        "calculation(10,10)"
      ],
      "metadata": {
        "colab": {
          "base_uri": "https://localhost:8080/"
        },
        "id": "eFz_wAvJWH7p",
        "outputId": "e3179ceb-e725-40f9-bd44-ac04fe49d793"
      },
      "execution_count": null,
      "outputs": [
        {
          "name": "stdout",
          "output_type": "stream",
          "text": [
            "press 1 to compute the sum of two numbers, or division of them1\n"
          ]
        },
        {
          "output_type": "execute_result",
          "data": {
            "text/plain": [
              "20"
            ]
          },
          "metadata": {},
          "execution_count": 26
        }
      ]
    },
    {
      "cell_type": "markdown",
      "source": [
        "# 4\n",
        "#### IPython training"
      ],
      "metadata": {
        "id": "XgO_7qODXzOK"
      }
    },
    {
      "cell_type": "code",
      "source": [
        "from IPython.display import display, Math\n",
        "\n",
        "def powers(x,y):\n",
        "  display(Math('%g^{%g} = %g' %(x,y,x**y)))\n",
        "\n",
        "def div(x,y):\n",
        "  display(Math('\\\\frac{%g}{%g} = %g' %(x,y,x/y)))"
      ],
      "metadata": {
        "id": "-ikjfYXjWbx4"
      },
      "execution_count": null,
      "outputs": []
    },
    {
      "cell_type": "code",
      "source": [
        "powers(2,4)"
      ],
      "metadata": {
        "colab": {
          "base_uri": "https://localhost:8080/",
          "height": 37
        },
        "id": "W8AplluwYtUl",
        "outputId": "20ce7197-be6c-48af-a8fe-07ab38beffe6"
      },
      "execution_count": null,
      "outputs": [
        {
          "output_type": "display_data",
          "data": {
            "text/plain": [
              "<IPython.core.display.Math object>"
            ],
            "text/latex": "$\\displaystyle 2^{4} = 16$"
          },
          "metadata": {}
        }
      ]
    },
    {
      "cell_type": "code",
      "source": [
        "div(3,5)"
      ],
      "metadata": {
        "colab": {
          "base_uri": "https://localhost:8080/",
          "height": 51
        },
        "id": "-9YYIx81ZpLk",
        "outputId": "634f5b95-1046-4642-eac9-ca0cb0e32192"
      },
      "execution_count": null,
      "outputs": [
        {
          "output_type": "display_data",
          "data": {
            "text/plain": [
              "<IPython.core.display.Math object>"
            ],
            "text/latex": "$\\displaystyle \\frac{3}{5} = 0.6$"
          },
          "metadata": {}
        }
      ]
    },
    {
      "cell_type": "markdown",
      "source": [
        "# 5"
      ],
      "metadata": {
        "id": "X1T56Jl0cbol"
      }
    },
    {
      "cell_type": "code",
      "source": [
        "def mainfunction():\n",
        "\n",
        "  x = int(input(\"input X \"))\n",
        "  y = int(input(\"input Y \"))\n",
        "\n",
        "  display(Math('\\\\text{Press 1 to compute } %g * %g' %(x,y)))\n",
        "  display(Math('\\\\text{Press 2 if you want to compute } %g^{%g}' %(x,y)))\n",
        "  display(Math('\\\\text{Press 3 if you want to compute } \\\\frac{%g}{%g}' %(x,y)))\n",
        "\n",
        "  answer = int(input('Answer '))\n",
        "  if answer == 1:\n",
        "    display(Math('%g * %g = %g' %(x,y,x*y)))\n",
        "\n",
        "  elif answer == 2:\n",
        "    display(Math('%g^{%g} = %g' %(x,y,x**y)))\n",
        "\n",
        "  elif answer == 3:\n",
        "      display(Math('\\\\frac{%g}{%g} = %g' %(x,y,x/y)))"
      ],
      "metadata": {
        "id": "ctEqEfHwcg8_"
      },
      "execution_count": null,
      "outputs": []
    },
    {
      "cell_type": "code",
      "source": [
        "mainfunction()"
      ],
      "metadata": {
        "colab": {
          "base_uri": "https://localhost:8080/",
          "height": 178
        },
        "id": "GLuMdWprfxa9",
        "outputId": "73619c13-568e-428e-d815-03977ace2132"
      },
      "execution_count": null,
      "outputs": [
        {
          "name": "stdout",
          "output_type": "stream",
          "text": [
            "input X 2\n",
            "input Y 2\n"
          ]
        },
        {
          "output_type": "display_data",
          "data": {
            "text/plain": [
              "<IPython.core.display.Math object>"
            ],
            "text/latex": "$\\displaystyle \\text{Press 1 to compute } 2 * 2$"
          },
          "metadata": {}
        },
        {
          "output_type": "display_data",
          "data": {
            "text/plain": [
              "<IPython.core.display.Math object>"
            ],
            "text/latex": "$\\displaystyle \\text{Press 2 if you want to compute } 2^{2}$"
          },
          "metadata": {}
        },
        {
          "output_type": "display_data",
          "data": {
            "text/plain": [
              "<IPython.core.display.Math object>"
            ],
            "text/latex": "$\\displaystyle \\text{Press 3 if you want to compute } \\frac{2}{2}$"
          },
          "metadata": {}
        },
        {
          "name": "stdout",
          "output_type": "stream",
          "text": [
            "Answer 3\n"
          ]
        },
        {
          "output_type": "display_data",
          "data": {
            "text/plain": [
              "<IPython.core.display.Math object>"
            ],
            "text/latex": "$\\displaystyle \\frac{2}{2} = 1$"
          },
          "metadata": {}
        }
      ]
    },
    {
      "cell_type": "markdown",
      "source": [
        "#Guessing game"
      ],
      "metadata": {
        "id": "nm2SScA8nOr9"
      }
    },
    {
      "cell_type": "code",
      "source": [
        "from numpy import random\n",
        "\n",
        "def guess_number():\n",
        "\n",
        "    guessed = False\n",
        "    number = random.randint(0,100)\n",
        "    attempts = 0\n",
        "\n",
        "\n",
        "    while guessed == False:\n",
        "\n",
        "      attempts += 1\n",
        "\n",
        "      user_number = int(input('Try to guess the number! '))\n",
        "\n",
        "      if user_number > number:\n",
        "        print(\"Too high!\")\n",
        "\n",
        "      if user_number < number:\n",
        "        print(\"Too low!\")\n",
        "\n",
        "      if user_number == number:\n",
        "        print(\"You won in %g attempts\" %(attempts))\n",
        "        guessed = True"
      ],
      "metadata": {
        "id": "zkQ2piszfznp"
      },
      "execution_count": null,
      "outputs": []
    },
    {
      "cell_type": "code",
      "source": [
        "guess_number()"
      ],
      "metadata": {
        "colab": {
          "base_uri": "https://localhost:8080/"
        },
        "id": "DBrxagSPna3j",
        "outputId": "991661ad-42b0-4541-ca07-a4d4816733c4"
      },
      "execution_count": null,
      "outputs": [
        {
          "output_type": "stream",
          "name": "stdout",
          "text": [
            "Try to guess the number! 50\n",
            "Too low!\n",
            "Try to guess the number! 60\n",
            "Too low!\n",
            "Try to guess the number! 70\n",
            "Too low!\n",
            "Try to guess the number! 80\n",
            "Too high!\n",
            "Try to guess the number! 71\n",
            "Too low!\n",
            "Try to guess the number! 72\n",
            "You won in 6\n"
          ]
        }
      ]
    },
    {
      "cell_type": "code",
      "source": [],
      "metadata": {
        "id": "z6xiV3s7vrks"
      },
      "execution_count": null,
      "outputs": []
    }
  ]
}
