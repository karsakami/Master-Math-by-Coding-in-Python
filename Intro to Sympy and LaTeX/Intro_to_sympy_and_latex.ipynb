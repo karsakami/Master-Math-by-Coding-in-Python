{
  "nbformat": 4,
  "nbformat_minor": 0,
  "metadata": {
    "colab": {
      "provenance": [],
      "collapsed_sections": [],
      "authorship_tag": "ABX9TyM09sW/SXsvEYlFdih8p2e0",
      "include_colab_link": true
    },
    "kernelspec": {
      "name": "python3",
      "display_name": "Python 3"
    },
    "language_info": {
      "name": "python"
    }
  },
  "cells": [
    {
      "cell_type": "markdown",
      "metadata": {
        "id": "view-in-github",
        "colab_type": "text"
      },
      "source": [
        "<a href=\"https://colab.research.google.com/github/karsakami/Master-Math-by-Coding-in-Python/blob/main/Intro_to_sympy_and_latex.ipynb\" target=\"_parent\"><img src=\"https://colab.research.google.com/assets/colab-badge.svg\" alt=\"Open In Colab\"/></a>"
      ]
    },
    {
      "cell_type": "markdown",
      "source": [
        "# The purpose of learning sympy is to use symbolic notation such as $\\sqrt{}$ or $\\phi$ or $\\pi$\n",
        "\n",
        "#For example, in python we cant just output for example $\\frac{3}{2}$ because python operates on concrete numbers. \n",
        "\n"
      ],
      "metadata": {
        "id": "BhRhZ1lPjk4p"
      }
    },
    {
      "cell_type": "code",
      "execution_count": 1,
      "metadata": {
        "id": "9AMGvrNmi6ZN"
      },
      "outputs": [],
      "source": [
        "import sympy as sym\n",
        "import numpy as np\n",
        "from IPython.display import display, Math"
      ]
    },
    {
      "cell_type": "code",
      "source": [
        "# so we create to variables and we assign them as symbols with sympy\n",
        "\n",
        "x,y = sym.symbols('x,y')\n",
        "x + y"
      ],
      "metadata": {
        "colab": {
          "base_uri": "https://localhost:8080/",
          "height": 38
        },
        "id": "6SM5gVIVkFu4",
        "outputId": "0b7bb8e2-e9bb-4239-de6b-5a458eca3c36"
      },
      "execution_count": 2,
      "outputs": [
        {
          "output_type": "execute_result",
          "data": {
            "text/plain": [
              "x + y"
            ],
            "text/latex": "$\\displaystyle x + y$"
          },
          "metadata": {},
          "execution_count": 2
        }
      ]
    },
    {
      "cell_type": "code",
      "source": [
        "display(x**y)\n",
        "display(x/y)"
      ],
      "metadata": {
        "colab": {
          "base_uri": "https://localhost:8080/",
          "height": 72
        },
        "id": "_u-ENPUckU-j",
        "outputId": "71b246bc-aac0-4be1-90c3-8d6b7dfb80d6"
      },
      "execution_count": 3,
      "outputs": [
        {
          "output_type": "display_data",
          "data": {
            "text/plain": [
              "x**y"
            ],
            "text/latex": "$\\displaystyle x^{y}$"
          },
          "metadata": {}
        },
        {
          "output_type": "display_data",
          "data": {
            "text/plain": [
              "x/y"
            ],
            "text/latex": "$\\displaystyle \\frac{x}{y}$"
          },
          "metadata": {}
        }
      ]
    },
    {
      "cell_type": "markdown",
      "source": [
        "# We print a estimate number of $\\sqrt{2}$, and then a symbolic value"
      ],
      "metadata": {
        "id": "GVZa20lTnfET"
      }
    },
    {
      "cell_type": "code",
      "source": [
        "display(np.sqrt(2))\n",
        "display(sym.sqrt(2))"
      ],
      "metadata": {
        "colab": {
          "base_uri": "https://localhost:8080/",
          "height": 56
        },
        "id": "WP9kcFVUkaik",
        "outputId": "eab6f759-b4d1-4dfa-98aa-7f4c17b17652"
      },
      "execution_count": 4,
      "outputs": [
        {
          "output_type": "display_data",
          "data": {
            "text/plain": [
              "1.4142135623730951"
            ]
          },
          "metadata": {}
        },
        {
          "output_type": "display_data",
          "data": {
            "text/plain": [
              "sqrt(2)"
            ],
            "text/latex": "$\\displaystyle \\sqrt{2}$"
          },
          "metadata": {}
        }
      ]
    },
    {
      "cell_type": "markdown",
      "source": [
        "# A little training"
      ],
      "metadata": {
        "id": "Xw1-B-8Xn5l8"
      }
    },
    {
      "cell_type": "markdown",
      "source": [
        "## Print $y * x^2$"
      ],
      "metadata": {
        "id": "dvC4ix6dpMtW"
      }
    },
    {
      "cell_type": "code",
      "source": [
        "display(y*x**2)"
      ],
      "metadata": {
        "colab": {
          "base_uri": "https://localhost:8080/",
          "height": 38
        },
        "id": "FlHpLSL_pm2a",
        "outputId": "4629b715-89d0-4488-9d90-2e5695e4ea2b"
      },
      "execution_count": 5,
      "outputs": [
        {
          "output_type": "display_data",
          "data": {
            "text/plain": [
              "x**2*y"
            ],
            "text/latex": "$\\displaystyle x^{2} y$"
          },
          "metadata": {}
        }
      ]
    },
    {
      "cell_type": "markdown",
      "source": [
        "## Print $\\sqrt{4x}$"
      ],
      "metadata": {
        "id": "wHu94Dk1pSdF"
      }
    },
    {
      "cell_type": "code",
      "source": [
        "display(sym.sqrt(4)*x)"
      ],
      "metadata": {
        "colab": {
          "base_uri": "https://localhost:8080/",
          "height": 38
        },
        "id": "tlo_Z5-fqwX3",
        "outputId": "98e3ff6a-281f-474e-e014-fc98e09f7220"
      },
      "execution_count": 6,
      "outputs": [
        {
          "output_type": "display_data",
          "data": {
            "text/plain": [
              "2*x"
            ],
            "text/latex": "$\\displaystyle 2 x$"
          },
          "metadata": {}
        }
      ]
    },
    {
      "cell_type": "markdown",
      "source": [
        "## Print $\\sqrt{x}\\sqrt{x}$"
      ],
      "metadata": {
        "id": "zShdoNBMpfxc"
      }
    },
    {
      "cell_type": "code",
      "source": [
        "display(sym.sqrt(x)*sym.sqrt(x))"
      ],
      "metadata": {
        "colab": {
          "base_uri": "https://localhost:8080/",
          "height": 38
        },
        "id": "O_c-rM7zplzE",
        "outputId": "a69b2be3-b407-44ca-fd01-e201a0758116"
      },
      "execution_count": 7,
      "outputs": [
        {
          "output_type": "display_data",
          "data": {
            "text/plain": [
              "x"
            ],
            "text/latex": "$\\displaystyle x$"
          },
          "metadata": {}
        }
      ]
    },
    {
      "cell_type": "markdown",
      "source": [
        "# As we see above - the display function from sympy evaluates our expressions. Thats why we have to learn **LaTeX**"
      ],
      "metadata": {
        "id": "C7rYyVq8sUnK"
      }
    },
    {
      "cell_type": "code",
      "source": [
        "display(Math('4 + 3 = 7'))"
      ],
      "metadata": {
        "colab": {
          "base_uri": "https://localhost:8080/",
          "height": 37
        },
        "id": "1TgcRhXYqT39",
        "outputId": "de81ab28-eb74-4fe3-a268-1f7e317eb511"
      },
      "execution_count": 8,
      "outputs": [
        {
          "output_type": "display_data",
          "data": {
            "text/plain": [
              "<IPython.core.display.Math object>"
            ],
            "text/latex": "$\\displaystyle 4 + 3 = 7$"
          },
          "metadata": {}
        }
      ]
    },
    {
      "cell_type": "markdown",
      "source": [
        "# LaTeX cheet sheet\n",
        "\n",
        "![cheet sheet.png](data:image/png;base64,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)"
      ],
      "metadata": {
        "id": "s3_zEO7yDzOo"
      }
    },
    {
      "cell_type": "markdown",
      "source": [
        "# Random training"
      ],
      "metadata": {
        "id": "VdDOQZbiFibc"
      }
    },
    {
      "cell_type": "code",
      "source": [
        "display(Math('x_{mn} + y^{n+2}'))"
      ],
      "metadata": {
        "colab": {
          "base_uri": "https://localhost:8080/",
          "height": 38
        },
        "id": "qIoKD-AoDHJx",
        "outputId": "6dd2591f-7cf8-4fb9-d0ed-b573e0cb9afd"
      },
      "execution_count": 9,
      "outputs": [
        {
          "output_type": "display_data",
          "data": {
            "text/plain": [
              "<IPython.core.display.Math object>"
            ],
            "text/latex": "$\\displaystyle x_{mn} + y^{n+2}$"
          },
          "metadata": {}
        }
      ]
    },
    {
      "cell_type": "code",
      "source": [
        "display(Math('\\\\sqrt{23+56+\\\\sigma+\\\\pi}'))"
      ],
      "metadata": {
        "colab": {
          "base_uri": "https://localhost:8080/",
          "height": 38
        },
        "id": "PzlWf69LFeSg",
        "outputId": "44b14cd0-2212-4d0f-cb23-6a6dea0f4fae"
      },
      "execution_count": 10,
      "outputs": [
        {
          "output_type": "display_data",
          "data": {
            "text/plain": [
              "<IPython.core.display.Math object>"
            ],
            "text/latex": "$\\displaystyle \\sqrt{23+56+\\sigma+\\pi}$"
          },
          "metadata": {}
        }
      ]
    },
    {
      "cell_type": "code",
      "source": [
        "display(Math('\\\\sqrt{x}\\\\sqrt{x}'))"
      ],
      "metadata": {
        "colab": {
          "base_uri": "https://localhost:8080/",
          "height": 37
        },
        "id": "QFqSKQBNFtqD",
        "outputId": "e7b4888b-a298-49ec-f8db-f512bb1da95c"
      },
      "execution_count": 11,
      "outputs": [
        {
          "output_type": "display_data",
          "data": {
            "text/plain": [
              "<IPython.core.display.Math object>"
            ],
            "text/latex": "$\\displaystyle \\sqrt{x}\\sqrt{x}$"
          },
          "metadata": {}
        }
      ]
    },
    {
      "cell_type": "code",
      "source": [
        "display(Math('\\\\sqrt{\\\\frac{23}{42}}'))"
      ],
      "metadata": {
        "colab": {
          "base_uri": "https://localhost:8080/",
          "height": 58
        },
        "id": "2ftCMKhIGsuV",
        "outputId": "a35a682c-8417-4591-a39c-22a3774c5ff1"
      },
      "execution_count": 12,
      "outputs": [
        {
          "output_type": "display_data",
          "data": {
            "text/plain": [
              "<IPython.core.display.Math object>"
            ],
            "text/latex": "$\\displaystyle \\sqrt{\\frac{23}{42}}$"
          },
          "metadata": {}
        }
      ]
    },
    {
      "cell_type": "markdown",
      "source": [
        "#**LateX exercises**"
      ],
      "metadata": {
        "id": "_bUlSv6qI1-k"
      }
    },
    {
      "cell_type": "markdown",
      "source": [
        "## **Print** \n",
        "$3x + 5y - 8z = 17$"
      ],
      "metadata": {
        "id": "gvfiZQevI7TD"
      }
    },
    {
      "cell_type": "code",
      "source": [
        "display(Math('3x+5y-8y = 17'))"
      ],
      "metadata": {
        "colab": {
          "base_uri": "https://localhost:8080/",
          "height": 38
        },
        "id": "9bdm0CwyHC8D",
        "outputId": "15b3eccf-f634-408a-c2a6-96c14e4b084c"
      },
      "execution_count": 13,
      "outputs": [
        {
          "output_type": "display_data",
          "data": {
            "text/plain": [
              "<IPython.core.display.Math object>"
            ],
            "text/latex": "$\\displaystyle 3x+5y-8y = 17$"
          },
          "metadata": {}
        }
      ]
    },
    {
      "cell_type": "markdown",
      "source": [
        "# **Print** \n",
        "# $sin(2\\pi ft + 0)$"
      ],
      "metadata": {
        "id": "WQaZkXOdJSen"
      }
    },
    {
      "cell_type": "code",
      "source": [
        "display(Math('sin(2\\\\pi ft + 0)'))"
      ],
      "metadata": {
        "colab": {
          "base_uri": "https://localhost:8080/",
          "height": 38
        },
        "id": "z0dfLZucJQrx",
        "outputId": "148edbfe-e15d-47c7-9f07-db8a208a3141"
      },
      "execution_count": 14,
      "outputs": [
        {
          "output_type": "display_data",
          "data": {
            "text/plain": [
              "<IPython.core.display.Math object>"
            ],
            "text/latex": "$\\displaystyle sin(2\\pi ft + 0)$"
          },
          "metadata": {}
        }
      ]
    },
    {
      "cell_type": "markdown",
      "source": [
        "# **Print**\n",
        "# $e = mc^2$"
      ],
      "metadata": {
        "id": "okCLTekDJszQ"
      }
    },
    {
      "cell_type": "code",
      "source": [
        "display(Math('e = mc^2'))"
      ],
      "metadata": {
        "colab": {
          "base_uri": "https://localhost:8080/",
          "height": 38
        },
        "id": "YMKLTGJpJnyM",
        "outputId": "c071f922-2d23-4112-98a3-403cf7480704"
      },
      "execution_count": 15,
      "outputs": [
        {
          "output_type": "display_data",
          "data": {
            "text/plain": [
              "<IPython.core.display.Math object>"
            ],
            "text/latex": "$\\displaystyle e = mc^2$"
          },
          "metadata": {}
        }
      ]
    },
    {
      "cell_type": "markdown",
      "source": [
        "## **Print**\n",
        "\n",
        "# $\\frac{4+5^2}{(1+x)(1-x)}$"
      ],
      "metadata": {
        "id": "yP7A6N6zKKps"
      }
    },
    {
      "cell_type": "code",
      "source": [
        "display(Math('\\\\frac{4+5^2}{(1+x)(1-x)}'))"
      ],
      "metadata": {
        "colab": {
          "base_uri": "https://localhost:8080/",
          "height": 58
        },
        "id": "_Z7PFfYRKH_l",
        "outputId": "a4c7c13a-e866-46e1-b29e-80113f994d0e"
      },
      "execution_count": 16,
      "outputs": [
        {
          "output_type": "display_data",
          "data": {
            "text/plain": [
              "<IPython.core.display.Math object>"
            ],
            "text/latex": "$\\displaystyle \\frac{4+5^2}{(1+x)(1-x)}$"
          },
          "metadata": {}
        }
      ]
    },
    {
      "cell_type": "markdown",
      "source": [
        "# Part 2"
      ],
      "metadata": {
        "id": "ZYulhDJ-MX5k"
      }
    },
    {
      "cell_type": "code",
      "source": [
        "# we assign mu, alpha and sigma symbols for individual variables\n",
        "mu,alpha,sigma = sym.symbols('mu,alpha,sigma')\n",
        "\n",
        "expr = sym.exp( (mu-alpha)**2 / (2*sigma**2) )\n",
        "\n",
        "display(expr)"
      ],
      "metadata": {
        "colab": {
          "base_uri": "https://localhost:8080/",
          "height": 46
        },
        "id": "xPE1x3-xMrCt",
        "outputId": "4670fab7-8aae-4246-c3f2-22b646881aae"
      },
      "execution_count": 17,
      "outputs": [
        {
          "output_type": "display_data",
          "data": {
            "text/plain": [
              "exp((-alpha + mu)**2/(2*sigma**2))"
            ],
            "text/latex": "$\\displaystyle e^{\\frac{\\left(- \\alpha + \\mu\\right)^{2}}{2 \\sigma^{2}}}$"
          },
          "metadata": {}
        }
      ]
    },
    {
      "cell_type": "code",
      "source": [
        "test = x + 7\n",
        "\n",
        "# method for substitute a variables\n",
        "test.subs(x,7)"
      ],
      "metadata": {
        "colab": {
          "base_uri": "https://localhost:8080/",
          "height": 37
        },
        "id": "HyCg_euKtbiu",
        "outputId": "2eb00fbd-e7cf-4c37-9324-957dfbe71576"
      },
      "execution_count": 18,
      "outputs": [
        {
          "output_type": "execute_result",
          "data": {
            "text/plain": [
              "14"
            ],
            "text/latex": "$\\displaystyle 14$"
          },
          "metadata": {},
          "execution_count": 18
        }
      ]
    },
    {
      "cell_type": "code",
      "source": [
        "x, y,g = sym.symbols('x,y,g')\n",
        "elo = x + 4 + 2*y\n",
        "\n",
        "# we dont know this y variable\n",
        "elo.subs(x,6)"
      ],
      "metadata": {
        "colab": {
          "base_uri": "https://localhost:8080/",
          "height": 38
        },
        "id": "5xhud_r2ufXr",
        "outputId": "4cdbff8c-1aae-409a-919c-823822d33ce3"
      },
      "execution_count": 19,
      "outputs": [
        {
          "output_type": "execute_result",
          "data": {
            "text/plain": [
              "2*y + 10"
            ],
            "text/latex": "$\\displaystyle 2 y + 10$"
          },
          "metadata": {},
          "execution_count": 19
        }
      ]
    },
    {
      "cell_type": "code",
      "source": [
        "x, y = sym.symbols('x,y')\n",
        "elo = x + 4 + 2*y\n",
        "\n",
        "# substitute two variables\n",
        "elo.subs({x:6, y:4})"
      ],
      "metadata": {
        "colab": {
          "base_uri": "https://localhost:8080/",
          "height": 37
        },
        "id": "p6HbodyZvSPC",
        "outputId": "3014d075-4dbb-4bae-d398-5c77d6192db6"
      },
      "execution_count": 20,
      "outputs": [
        {
          "output_type": "execute_result",
          "data": {
            "text/plain": [
              "18"
            ],
            "text/latex": "$\\displaystyle 18$"
          },
          "metadata": {},
          "execution_count": 20
        }
      ]
    },
    {
      "cell_type": "markdown",
      "source": [
        "# There is usefull function in sympy if we dont know sentence for writing something in latex called **latex**"
      ],
      "metadata": {
        "id": "uumQZm4SxF7t"
      }
    },
    {
      "cell_type": "code",
      "source": [
        "k = 3/g\n",
        "\n",
        "sym.latex(k)"
      ],
      "metadata": {
        "colab": {
          "base_uri": "https://localhost:8080/",
          "height": 35
        },
        "id": "Llj-m_X8wGzc",
        "outputId": "f88acda9-904d-4e69-f58b-9c2ac4a1c843"
      },
      "execution_count": 21,
      "outputs": [
        {
          "output_type": "execute_result",
          "data": {
            "text/plain": [
              "'\\\\frac{3}{g}'"
            ],
            "application/vnd.google.colaboratory.intrinsic+json": {
              "type": "string"
            }
          },
          "metadata": {},
          "execution_count": 21
        }
      ]
    },
    {
      "cell_type": "markdown",
      "source": [
        "# And we dont have to even know what is latex syntax, we can display this method latex by display and math "
      ],
      "metadata": {
        "id": "ksh3qHFc0Skz"
      }
    },
    {
      "cell_type": "code",
      "source": [
        "display(Math(sym.latex(k)))"
      ],
      "metadata": {
        "colab": {
          "base_uri": "https://localhost:8080/",
          "height": 54
        },
        "id": "3_JuhXR9xl6v",
        "outputId": "460db073-a515-4273-9553-379e0f69da12"
      },
      "execution_count": 22,
      "outputs": [
        {
          "output_type": "display_data",
          "data": {
            "text/plain": [
              "<IPython.core.display.Math object>"
            ],
            "text/latex": "$\\displaystyle \\frac{3}{g}$"
          },
          "metadata": {}
        }
      ]
    },
    {
      "cell_type": "markdown",
      "source": [
        "<!-- # If we just want to display a syntax for latex 3/4, we cant do it - why -->"
      ],
      "metadata": {
        "id": "0Dk38axqliel"
      }
    },
    {
      "cell_type": "markdown",
      "source": [
        "# If we just want to output a latex syntax of 3/4, we cant do it. \n",
        "\n",
        "#But we can use function **sympify** "
      ],
      "metadata": {
        "id": "vh5zMeKKlt26"
      }
    },
    {
      "cell_type": "code",
      "source": [
        "display(sym.latex(3/4))"
      ],
      "metadata": {
        "id": "4gFaL-RJ0OHI",
        "colab": {
          "base_uri": "https://localhost:8080/",
          "height": 35
        },
        "outputId": "4182d9bf-9542-4d9c-9d0d-99d446d1b2be"
      },
      "execution_count": 27,
      "outputs": [
        {
          "output_type": "display_data",
          "data": {
            "text/plain": [
              "'0.75'"
            ],
            "application/vnd.google.colaboratory.intrinsic+json": {
              "type": "string"
            }
          },
          "metadata": {}
        }
      ]
    },
    {
      "cell_type": "code",
      "source": [
        "display(Math(sym.latex(sym.sympify('3/4'))))"
      ],
      "metadata": {
        "colab": {
          "base_uri": "https://localhost:8080/",
          "height": 51
        },
        "id": "OGM0U-dylaFX",
        "outputId": "c92883d9-29f7-4bf0-e6d2-808f6059253b"
      },
      "execution_count": 34,
      "outputs": [
        {
          "output_type": "display_data",
          "data": {
            "text/plain": [
              "<IPython.core.display.Math object>"
            ],
            "text/latex": "$\\displaystyle \\frac{3}{4}$"
          },
          "metadata": {}
        }
      ]
    },
    {
      "cell_type": "markdown",
      "source": [
        "# **Excercises**\n",
        "\n",
        "# 1)\n",
        "#### Print $ x^2 + 4 \\\\ where \\ x=-2:2$\n"
      ],
      "metadata": {
        "id": "10fM3_zanEVZ"
      }
    },
    {
      "cell_type": "code",
      "source": [
        "expr = x**2 + 4\n",
        "\n",
        "for i in range(-2,3):\n",
        "  display(Math( '\\\\text{With }x=%g \\\\quad \\\\Rightarrow \\\\quad %g^2+4=%g' %(i,i,expr.subs(x,i)) ))"
      ],
      "metadata": {
        "colab": {
          "base_uri": "https://localhost:8080/",
          "height": 124
        },
        "id": "spt891EVrNzq",
        "outputId": "81af6b79-0afb-4d55-ff03-f7a161fa8e15"
      },
      "execution_count": 72,
      "outputs": [
        {
          "output_type": "display_data",
          "data": {
            "text/plain": [
              "<IPython.core.display.Math object>"
            ],
            "text/latex": "$\\displaystyle \\text{With }x=-2 \\quad \\Rightarrow \\quad -2^2+4=8$"
          },
          "metadata": {}
        },
        {
          "output_type": "display_data",
          "data": {
            "text/plain": [
              "<IPython.core.display.Math object>"
            ],
            "text/latex": "$\\displaystyle \\text{With }x=-1 \\quad \\Rightarrow \\quad -1^2+4=5$"
          },
          "metadata": {}
        },
        {
          "output_type": "display_data",
          "data": {
            "text/plain": [
              "<IPython.core.display.Math object>"
            ],
            "text/latex": "$\\displaystyle \\text{With }x=0 \\quad \\Rightarrow \\quad 0^2+4=4$"
          },
          "metadata": {}
        },
        {
          "output_type": "display_data",
          "data": {
            "text/plain": [
              "<IPython.core.display.Math object>"
            ],
            "text/latex": "$\\displaystyle \\text{With }x=1 \\quad \\Rightarrow \\quad 1^2+4=5$"
          },
          "metadata": {}
        },
        {
          "output_type": "display_data",
          "data": {
            "text/plain": [
              "<IPython.core.display.Math object>"
            ],
            "text/latex": "$\\displaystyle \\text{With }x=2 \\quad \\Rightarrow \\quad 2^2+4=8$"
          },
          "metadata": {}
        }
      ]
    },
    {
      "cell_type": "code",
      "source": [],
      "metadata": {
        "id": "O2n131SArRLY"
      },
      "execution_count": null,
      "outputs": []
    }
  ]
}
